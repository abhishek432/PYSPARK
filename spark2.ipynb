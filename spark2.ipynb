{
  "nbformat": 4,
  "nbformat_minor": 0,
  "metadata": {
    "colab": {
      "name": "Welcome To Colaboratory",
      "provenance": [],
      "collapsed_sections": []
    },
    "kernelspec": {
      "display_name": "Python 3",
      "name": "python3"
    }
  },
  "cells": [
    {
      "cell_type": "code",
      "metadata": {
        "colab": {
          "base_uri": "https://localhost:8080/"
        },
        "id": "bW57xzl7C3IE",
        "outputId": "f7917d17-1720-41ab-9670-00cdff86243b"
      },
      "source": [
        "pip install pyspark"
      ],
      "execution_count": 2,
      "outputs": [
        {
          "output_type": "stream",
          "name": "stdout",
          "text": [
            "Collecting pyspark\n",
            "  Downloading pyspark-3.2.0.tar.gz (281.3 MB)\n",
            "\u001b[K     |████████████████████████████████| 281.3 MB 30 kB/s \n",
            "\u001b[?25hCollecting py4j==0.10.9.2\n",
            "  Downloading py4j-0.10.9.2-py2.py3-none-any.whl (198 kB)\n",
            "\u001b[K     |████████████████████████████████| 198 kB 58.0 MB/s \n",
            "\u001b[?25hBuilding wheels for collected packages: pyspark\n",
            "  Building wheel for pyspark (setup.py) ... \u001b[?25l\u001b[?25hdone\n",
            "  Created wheel for pyspark: filename=pyspark-3.2.0-py2.py3-none-any.whl size=281805912 sha256=549dc54270313bc0497c8d54e6c5fbdc166a5911fbb264f7b0f3a13d97733761\n",
            "  Stored in directory: /root/.cache/pip/wheels/0b/de/d2/9be5d59d7331c6c2a7c1b6d1a4f463ce107332b1ecd4e80718\n",
            "Successfully built pyspark\n",
            "Installing collected packages: py4j, pyspark\n",
            "Successfully installed py4j-0.10.9.2 pyspark-3.2.0\n"
          ]
        }
      ]
    },
    {
      "cell_type": "code",
      "metadata": {
        "id": "F0G9KhqaDufc"
      },
      "source": [
        "from pyspark.sql import SparkSession\n",
        "spark =SparkSession.builder.getOrCreate()"
      ],
      "execution_count": 4,
      "outputs": []
    },
    {
      "cell_type": "code",
      "metadata": {
        "id": "gaW60sdlY71b",
        "colab": {
          "base_uri": "https://localhost:8080/"
        },
        "outputId": "7d737194-a9f7-4c69-fe2e-7f21cc9f0493"
      },
      "source": [
        "#user defined functions----\n",
        "import pandas\n",
        "from pyspark.sql.functions import pandas_udf\n",
        "\n",
        "@pandas_udf('long')\n",
        "def pandas_plus_one(series:pd.Series) -> pd.Series:\n",
        "  return series + 1\n",
        "\n",
        "df.select(pandas_plus_one(df.no)).show() "
      ],
      "execution_count": 54,
      "outputs": [
        {
          "output_type": "stream",
          "name": "stdout",
          "text": [
            "+-------------------+\n",
            "|pandas_plus_one(no)|\n",
            "+-------------------+\n",
            "|                  2|\n",
            "|                  3|\n",
            "|                  4|\n",
            "|                 12|\n",
            "|                  3|\n",
            "|                  4|\n",
            "|                 23|\n",
            "|                  3|\n",
            "|                  4|\n",
            "+-------------------+\n",
            "\n"
          ]
        }
      ]
    },
    {
      "cell_type": "code",
      "metadata": {
        "id": "oDzR6GjO5p0P",
        "outputId": "ea4fe300-64a7-471e-d1a2-fecaba43a1fe",
        "colab": {
          "base_uri": "https://localhost:8080/"
        }
      },
      "source": [
        "#user defined functions----\n",
        "def pandas_filter_func(iterator):\n",
        "  for pandas_df in iterator:\n",
        "    yield pandas_df[pandas_df.no == 8.0]\n",
        "df.mapInPandas(pandas_filter_func,schema=df.schema).show()\n"
      ],
      "execution_count": 55,
      "outputs": [
        {
          "output_type": "stream",
          "name": "stdout",
          "text": [
            "+-----+-----+---+----+\n",
            "|color|fruit| no|rate|\n",
            "+-----+-----+---+----+\n",
            "+-----+-----+---+----+\n",
            "\n"
          ]
        }
      ]
    },
    {
      "cell_type": "code",
      "metadata": {
        "id": "536iFaz86ooe",
        "outputId": "c1dc68be-48d0-46d3-9119-a8f7cba0f110",
        "colab": {
          "base_uri": "https://localhost:8080/"
        }
      },
      "source": [
        "#creating dataframe---\n",
        "df=spark.createDataFrame([\n",
        "   ['red','banana',1,10],['blue','banana',2,20],['yello','grape',3,120],\n",
        "   ['pink','mango',11,100],['white','banana',2,20],['yello','grape',3,120],\n",
        "   ['voilet','pi',22,110],['blue','banana',2,20],['yello','grape',3,120]],schema=('color string,fruit string,no long,rate long')                       \n",
        ")\n",
        "df.show()"
      ],
      "execution_count": 53,
      "outputs": [
        {
          "output_type": "stream",
          "name": "stdout",
          "text": [
            "+------+------+---+----+\n",
            "| color| fruit| no|rate|\n",
            "+------+------+---+----+\n",
            "|   red|banana|  1|  10|\n",
            "|  blue|banana|  2|  20|\n",
            "| yello| grape|  3| 120|\n",
            "|  pink| mango| 11| 100|\n",
            "| white|banana|  2|  20|\n",
            "| yello| grape|  3| 120|\n",
            "|voilet|    pi| 22| 110|\n",
            "|  blue|banana|  2|  20|\n",
            "| yello| grape|  3| 120|\n",
            "+------+------+---+----+\n",
            "\n"
          ]
        }
      ]
    },
    {
      "cell_type": "code",
      "metadata": {
        "id": "iZ5zX7wk9iEp",
        "outputId": "71ed7476-d5ee-4c60-f56d-524d0126bb40",
        "colab": {
          "base_uri": "https://localhost:8080/"
        }
      },
      "source": [
        "#group by command with avg func---\n",
        "df.groupBy('color').avg().show()"
      ],
      "execution_count": 21,
      "outputs": [
        {
          "output_type": "stream",
          "name": "stdout",
          "text": [
            "+------+-------+---------+\n",
            "| color|avg(no)|avg(rate)|\n",
            "+------+-------+---------+\n",
            "| yello|    3.0|    120.0|\n",
            "|  pink|   11.0|    100.0|\n",
            "|   red|    1.0|     10.0|\n",
            "|  blue|    2.0|     20.0|\n",
            "| white|    2.0|     20.0|\n",
            "|voilet|   22.0|    110.0|\n",
            "+------+-------+---------+\n",
            "\n"
          ]
        }
      ]
    },
    {
      "cell_type": "code",
      "metadata": {
        "id": "SZlfCJtd_Q-C",
        "outputId": "f1704ae5-f617-4b81-86c8-1cd48c281a87",
        "colab": {
          "base_uri": "https://localhost:8080/"
        }
      },
      "source": [
        "#group by command with min func---\n",
        "df.groupBy('rate').min().show()"
      ],
      "execution_count": 20,
      "outputs": [
        {
          "output_type": "stream",
          "name": "stdout",
          "text": [
            "+----+-------+---------+\n",
            "|rate|min(no)|min(rate)|\n",
            "+----+-------+---------+\n",
            "|  10|      1|       10|\n",
            "| 120|      3|      120|\n",
            "| 100|     11|      100|\n",
            "|  20|      2|       20|\n",
            "| 110|     22|      110|\n",
            "+----+-------+---------+\n",
            "\n"
          ]
        }
      ]
    },
    {
      "cell_type": "code",
      "metadata": {
        "id": "DOBbDwdqB38J",
        "outputId": "1f637597-89d6-4b9f-b5df-349f329ab081",
        "colab": {
          "base_uri": "https://localhost:8080/"
        }
      },
      "source": [
        "#joining operation---\n",
        "df1=spark.createDataFrame(\n",
        "    [(2000002,1,1.0),(300002,2,2.0),(400000,3,3.0)],('time','id','v1'))\n",
        "\n",
        "df2=spark.createDataFrame(\n",
        "    [(2000002,1,1.0),(300002,2,2.0),(400000,3,3.0)],('time','id','v2'))\n",
        "def asof_join(l,r):\n",
        "  return pd.merge_asof(l,r,on='time',by='id')\n",
        "\n",
        "df1.groupBy('id').cogroup(df2.groupBy('id')).applyInPandas(\n",
        "    asof_join,schema='time int,id int,v1 double,v2 double'\n",
        ").show()"
      ],
      "execution_count": 30,
      "outputs": [
        {
          "output_type": "stream",
          "name": "stdout",
          "text": [
            "+-------+---+---+---+\n",
            "|   time| id| v1| v2|\n",
            "+-------+---+---+---+\n",
            "|2000002|  1|1.0|1.0|\n",
            "| 300002|  2|2.0|2.0|\n",
            "| 400000|  3|3.0|3.0|\n",
            "+-------+---+---+---+\n",
            "\n"
          ]
        }
      ]
    },
    {
      "cell_type": "code",
      "metadata": {
        "id": "pOwjbcBGE1AF",
        "outputId": "f448dbb4-771c-4467-c0ca-3c094bd56ae6",
        "colab": {
          "base_uri": "https://localhost:8080/"
        }
      },
      "source": [
        "#to read the file----\n",
        "spark.read.csv('/content/sample_data/california_housing_test.csv',header=True).show()"
      ],
      "execution_count": 34,
      "outputs": [
        {
          "output_type": "stream",
          "name": "stdout",
          "text": [
            "+-----------+---------+------------------+-----------+--------------+-----------+-----------+-------------+------------------+\n",
            "|  longitude| latitude|housing_median_age|total_rooms|total_bedrooms| population| households|median_income|median_house_value|\n",
            "+-----------+---------+------------------+-----------+--------------+-----------+-----------+-------------+------------------+\n",
            "|-122.050000|37.370000|         27.000000|3885.000000|    661.000000|1537.000000| 606.000000|     6.608500|     344700.000000|\n",
            "|-118.300000|34.260000|         43.000000|1510.000000|    310.000000| 809.000000| 277.000000|     3.599000|     176500.000000|\n",
            "|-117.810000|33.780000|         27.000000|3589.000000|    507.000000|1484.000000| 495.000000|     5.793400|     270500.000000|\n",
            "|-118.360000|33.820000|         28.000000|  67.000000|     15.000000|  49.000000|  11.000000|     6.135900|     330000.000000|\n",
            "|-119.670000|36.330000|         19.000000|1241.000000|    244.000000| 850.000000| 237.000000|     2.937500|      81700.000000|\n",
            "|-119.560000|36.510000|         37.000000|1018.000000|    213.000000| 663.000000| 204.000000|     1.663500|      67000.000000|\n",
            "|-121.430000|38.630000|         43.000000|1009.000000|    225.000000| 604.000000| 218.000000|     1.664100|      67000.000000|\n",
            "|-120.650000|35.480000|         19.000000|2310.000000|    471.000000|1341.000000| 441.000000|     3.225000|     166900.000000|\n",
            "|-122.840000|38.400000|         15.000000|3080.000000|    617.000000|1446.000000| 599.000000|     3.669600|     194400.000000|\n",
            "|-118.020000|34.080000|         31.000000|2402.000000|    632.000000|2830.000000| 603.000000|     2.333300|     164200.000000|\n",
            "|-118.240000|33.980000|         45.000000| 972.000000|    249.000000|1288.000000| 261.000000|     2.205400|     125000.000000|\n",
            "|-119.120000|35.850000|         37.000000| 736.000000|    166.000000| 564.000000| 138.000000|     2.416700|      58300.000000|\n",
            "|-121.930000|37.250000|         36.000000|1089.000000|    182.000000| 535.000000| 170.000000|     4.690000|     252600.000000|\n",
            "|-117.030000|32.970000|         16.000000|3936.000000|    694.000000|1935.000000| 659.000000|     4.562500|     231200.000000|\n",
            "|-117.970000|33.730000|         27.000000|2097.000000|    325.000000|1217.000000| 331.000000|     5.712100|     222500.000000|\n",
            "|-117.990000|33.810000|         42.000000| 161.000000|     40.000000| 157.000000|  50.000000|     2.200000|     153100.000000|\n",
            "|-120.810000|37.530000|         15.000000| 570.000000|    123.000000| 189.000000| 107.000000|     1.875000|     181300.000000|\n",
            "|-121.200000|38.690000|         26.000000|3077.000000|    607.000000|1603.000000| 595.000000|     2.717400|     137500.000000|\n",
            "|-118.880000|34.210000|         26.000000|1590.000000|    196.000000| 654.000000| 199.000000|     6.585100|     300000.000000|\n",
            "|-122.590000|38.010000|         35.000000|8814.000000|   1307.000000|3450.000000|1258.000000|     6.172400|     414300.000000|\n",
            "+-----------+---------+------------------+-----------+--------------+-----------+-----------+-------------+------------------+\n",
            "only showing top 20 rows\n",
            "\n"
          ]
        }
      ]
    },
    {
      "cell_type": "code",
      "metadata": {
        "id": "jB-s8wSpHFVw"
      },
      "source": [
        "#for creating  the csv file from dataframe--\n",
        "df.write.csv('foo.csv',header= True)"
      ],
      "execution_count": 39,
      "outputs": []
    },
    {
      "cell_type": "code",
      "metadata": {
        "id": "rLVd2WM1IlBl"
      },
      "source": [
        "#for creating  the orc file from dataframe--\n",
        "df.write.orc('abhi.orc')\n"
      ],
      "execution_count": 46,
      "outputs": []
    },
    {
      "cell_type": "code",
      "metadata": {
        "id": "s7uVq4MbKvWk",
        "outputId": "697ea9dc-cc16-483c-d9c0-937ce5421d2f",
        "colab": {
          "base_uri": "https://localhost:8080/"
        }
      },
      "source": [
        "#for reading  the orc file --\n",
        "spark.read.orc('abhi.orc').show()"
      ],
      "execution_count": 47,
      "outputs": [
        {
          "output_type": "stream",
          "name": "stdout",
          "text": [
            "+-----+------+------+----------+-------------------+\n",
            "|apple|banana|     c|         d|                  e|\n",
            "+-----+------+------+----------+-------------------+\n",
            "|    2|   3.0|hello1|2021-01-04|2021-02-12 00:00:00|\n",
            "|    3|   4.0|hello2|2021-02-05|2021-02-11 01:00:00|\n",
            "|    1|   2.0| hello|2021-02-04|2021-02-12 01:00:00|\n",
            "+-----+------+------+----------+-------------------+\n",
            "\n"
          ]
        }
      ]
    },
    {
      "cell_type": "code",
      "metadata": {
        "id": "IeBdLthyMF_i"
      },
      "source": [
        "#for creating  the parquet file from dataframe--\n",
        "df.write.parquet('niki1.parquet')"
      ],
      "execution_count": 50,
      "outputs": []
    },
    {
      "cell_type": "code",
      "metadata": {
        "id": "FTOZO7IJMfCi",
        "outputId": "6ffb6913-c017-4a3a-c4f7-ec39a7708ce9",
        "colab": {
          "base_uri": "https://localhost:8080/"
        }
      },
      "source": [
        "#for reading  the parquet file----\n",
        "spark.read.parquet('niki1.parquet').show()"
      ],
      "execution_count": 52,
      "outputs": [
        {
          "output_type": "stream",
          "name": "stdout",
          "text": [
            "+-----+------+------+----------+-------------------+\n",
            "|apple|banana|     c|         d|                  e|\n",
            "+-----+------+------+----------+-------------------+\n",
            "|    1|   2.0| hello|2021-02-04|2021-02-12 01:00:00|\n",
            "|    2|   3.0|hello1|2021-01-04|2021-02-12 00:00:00|\n",
            "|    3|   4.0|hello2|2021-02-05|2021-02-11 01:00:00|\n",
            "+-----+------+------+----------+-------------------+\n",
            "\n"
          ]
        }
      ]
    },
    {
      "cell_type": "code",
      "metadata": {
        "id": "nvHjhlK1OE_D"
      },
      "source": [
        ""
      ],
      "execution_count": null,
      "outputs": []
    }
  ]
}