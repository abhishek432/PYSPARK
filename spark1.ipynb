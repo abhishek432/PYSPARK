{
  "nbformat": 4,
  "nbformat_minor": 0,
  "metadata": {
    "colab": {
      "name": "Welcome To Colaboratory",
      "provenance": [],
      "collapsed_sections": []
    },
    "kernelspec": {
      "display_name": "Python 3",
      "name": "python3"
    }
  },
  "cells": [
    {
      "cell_type": "code",
      "metadata": {
        "colab": {
          "base_uri": "https://localhost:8080/"
        },
        "id": "bW57xzl7C3IE",
        "outputId": "1c8372f5-a3af-403a-a75f-7dd125b5431b"
      },
      "source": [
        "pip install pyspark"
      ],
      "execution_count": 1,
      "outputs": [
        {
          "output_type": "stream",
          "name": "stdout",
          "text": [
            "Collecting pyspark\n",
            "  Downloading pyspark-3.2.0.tar.gz (281.3 MB)\n",
            "\u001b[K     |████████████████████████████████| 281.3 MB 39 kB/s \n",
            "\u001b[?25hCollecting py4j==0.10.9.2\n",
            "  Downloading py4j-0.10.9.2-py2.py3-none-any.whl (198 kB)\n",
            "\u001b[K     |████████████████████████████████| 198 kB 62.6 MB/s \n",
            "\u001b[?25hBuilding wheels for collected packages: pyspark\n",
            "  Building wheel for pyspark (setup.py) ... \u001b[?25l\u001b[?25hdone\n",
            "  Created wheel for pyspark: filename=pyspark-3.2.0-py2.py3-none-any.whl size=281805912 sha256=9d8f98fa5fd08a60392694a1020f2f922d53d660d1369dff9750883047e14361\n",
            "  Stored in directory: /root/.cache/pip/wheels/0b/de/d2/9be5d59d7331c6c2a7c1b6d1a4f463ce107332b1ecd4e80718\n",
            "Successfully built pyspark\n",
            "Installing collected packages: py4j, pyspark\n",
            "Successfully installed py4j-0.10.9.2 pyspark-3.2.0\n"
          ]
        }
      ]
    },
    {
      "cell_type": "code",
      "metadata": {
        "id": "F0G9KhqaDufc"
      },
      "source": [
        "from pyspark.sql import SparkSession\n",
        "spark =SparkSession.builder.getOrCreate()"
      ],
      "execution_count": 5,
      "outputs": []
    },
    {
      "cell_type": "code",
      "metadata": {
        "colab": {
          "base_uri": "https://localhost:8080/"
        },
        "id": "YQLsnZpIEFCD",
        "outputId": "36643637-ec2b-4aff-e183-68b4805c4955"
      },
      "source": [
        "#dataframe Creation by row library ---\n",
        "from datetime import datetime,date\n",
        "import pandas as pd\n",
        "from pyspark.sql import Row\n",
        "df=spark.createDataFrame([ \n",
        "    Row(apple=1,banana=2.,c='hello',d=date(2021,2,4),e=datetime(2021,2,12,1)),\n",
        "    Row(apple=2,banana=3.,c='hello1',d=date(2021,1,4),e=datetime(2021,2,12,0)),\n",
        "    Row(apple=3,banana=4.,c='hello2',d=date(2021,2,5),e=datetime(2021,2,11,1))\n",
        "    ])\n",
        "df\n"
      ],
      "execution_count": 7,
      "outputs": [
        {
          "output_type": "execute_result",
          "data": {
            "text/plain": [
              "DataFrame[apple: bigint, banana: double, c: string, d: date, e: timestamp]"
            ]
          },
          "metadata": {},
          "execution_count": 7
        }
      ]
    },
    {
      "cell_type": "code",
      "metadata": {
        "colab": {
          "base_uri": "https://localhost:8080/"
        },
        "id": "8yJqvI0uJTwM",
        "outputId": "86bb723e-3d3d-447f-c42a-5d66e345dda4"
      },
      "source": [
        "#dataframe creation by pandas----\n",
        "pandas_df=pd.DataFrame({\n",
        "    'apple':[1,2,3],\n",
        "    'banana':[2.,3.,3.],\n",
        "    'c':['hello','hello1','hello2'],\n",
        "    'd':[date(2021,2,4),date(2021,2,4),date(2021,2,4)],\n",
        "    'e':[datetime(2021,2,12,1),datetime(2021,2,12,1),datetime(2021,2,12,1)]\n",
        "    })\n",
        "df=spark.createDataFrame(pandas_df)\n",
        "df\n"
      ],
      "execution_count": 8,
      "outputs": [
        {
          "output_type": "execute_result",
          "data": {
            "text/plain": [
              "DataFrame[apple: bigint, banana: double, c: string, d: date, e: timestamp]"
            ]
          },
          "metadata": {},
          "execution_count": 8
        }
      ]
    },
    {
      "cell_type": "code",
      "metadata": {
        "colab": {
          "base_uri": "https://localhost:8080/"
        },
        "id": "CNdQPLMVKAt6",
        "outputId": "7840a9b1-8d91-42dd-eedc-f7c9d93162a8"
      },
      "source": [
        "#creating dataframe with rdd or parallize method---\n",
        "rdd=spark.sparkContext.parallelize([\n",
        "  (1,2.,'hello',date(2021,2,4),datetime(2021,2,12,1)),\n",
        "  (2,3.,'hello',date(2021,2,4),datetime(2021,2,12,1)),\n",
        "  (3,3.,'hello',date(2021,2,4),datetime(2021,2,12,1))    \n",
        "])\n",
        "df=spark.createDataFrame(rdd,schema=['apple','banana','c','d','e'])\n",
        "df\n"
      ],
      "execution_count": 10,
      "outputs": [
        {
          "output_type": "execute_result",
          "data": {
            "text/plain": [
              "DataFrame[apple: bigint, banana: double, c: string, d: date, e: timestamp]"
            ]
          },
          "metadata": {},
          "execution_count": 10
        }
      ]
    },
    {
      "cell_type": "code",
      "metadata": {
        "id": "n-V1doAbRlCN",
        "outputId": "f3d6329b-4b2d-4f27-f944-df12c1ba4bc0",
        "colab": {
          "base_uri": "https://localhost:8080/"
        }
      },
      "source": [
        "#shows the all values or data in data Frame---\n",
        "df.show()\n",
        "df.printSchema()"
      ],
      "execution_count": 13,
      "outputs": [
        {
          "output_type": "stream",
          "name": "stdout",
          "text": [
            "+-----+------+-----+----------+-------------------+\n",
            "|apple|banana|    c|         d|                  e|\n",
            "+-----+------+-----+----------+-------------------+\n",
            "|    1|   2.0|hello|2021-02-04|2021-02-12 01:00:00|\n",
            "|    2|   3.0|hello|2021-02-04|2021-02-12 01:00:00|\n",
            "|    3|   3.0|hello|2021-02-04|2021-02-12 01:00:00|\n",
            "+-----+------+-----+----------+-------------------+\n",
            "\n",
            "root\n",
            " |-- apple: long (nullable = true)\n",
            " |-- banana: double (nullable = true)\n",
            " |-- c: string (nullable = true)\n",
            " |-- d: date (nullable = true)\n",
            " |-- e: timestamp (nullable = true)\n",
            "\n"
          ]
        }
      ]
    },
    {
      "cell_type": "code",
      "metadata": {
        "id": "CaAOn3y-SnH1",
        "outputId": "88cc6eaf-053b-4a37-caf1-c284aae2f006",
        "colab": {
          "base_uri": "https://localhost:8080/"
        }
      },
      "source": [
        "#this command show only 2 lines in the dataframe\n",
        "df.show(2)"
      ],
      "execution_count": 15,
      "outputs": [
        {
          "output_type": "stream",
          "name": "stdout",
          "text": [
            "+-----+------+-----+----------+-------------------+\n",
            "|apple|banana|    c|         d|                  e|\n",
            "+-----+------+-----+----------+-------------------+\n",
            "|    1|   2.0|hello|2021-02-04|2021-02-12 01:00:00|\n",
            "|    2|   3.0|hello|2021-02-04|2021-02-12 01:00:00|\n",
            "+-----+------+-----+----------+-------------------+\n",
            "only showing top 2 rows\n",
            "\n"
          ]
        }
      ]
    },
    {
      "cell_type": "code",
      "metadata": {
        "id": "s2yHSiJ1R7ND",
        "outputId": "e3da0182-64e5-456f-ad52-219348d78433",
        "colab": {
          "base_uri": "https://localhost:8080/"
        }
      },
      "source": [
        "\"\"\"this command is useful when rows are too \n",
        "long to show horizentally\"\"\"\n",
        "df.show(1,vertical=True)"
      ],
      "execution_count": 18,
      "outputs": [
        {
          "output_type": "stream",
          "name": "stdout",
          "text": [
            "-RECORD 0---------------------\n",
            " apple  | 1                   \n",
            " banana | 2.0                 \n",
            " c      | hello               \n",
            " d      | 2021-02-04          \n",
            " e      | 2021-02-12 01:00:00 \n",
            "only showing top 1 row\n",
            "\n"
          ]
        }
      ]
    },
    {
      "cell_type": "code",
      "metadata": {
        "id": "2MlFTH-ITwI8",
        "outputId": "bc06bca4-b1e3-4790-957d-e6f4bec93858",
        "colab": {
          "base_uri": "https://localhost:8080/"
        }
      },
      "source": [
        "df.columns"
      ],
      "execution_count": 20,
      "outputs": [
        {
          "output_type": "execute_result",
          "data": {
            "text/plain": [
              "['apple', 'banana', 'c', 'd', 'e']"
            ]
          },
          "metadata": {},
          "execution_count": 20
        }
      ]
    },
    {
      "cell_type": "code",
      "metadata": {
        "id": "9epwDcRgT63-",
        "outputId": "3524c60f-60ac-44d5-a879-aa6a6d532abf",
        "colab": {
          "base_uri": "https://localhost:8080/"
        }
      },
      "source": [
        "#summary of the dataFrame---\n",
        "df.select('apple','banana','c').describe().show()"
      ],
      "execution_count": 22,
      "outputs": [
        {
          "output_type": "stream",
          "name": "stdout",
          "text": [
            "+-------+-----+------------------+-----+\n",
            "|summary|apple|            banana|    c|\n",
            "+-------+-----+------------------+-----+\n",
            "|  count|    3|                 3|    3|\n",
            "|   mean|  2.0|2.6666666666666665| null|\n",
            "| stddev|  1.0|0.5773502691896257| null|\n",
            "|    min|    1|               2.0|hello|\n",
            "|    max|    3|               3.0|hello|\n",
            "+-------+-----+------------------+-----+\n",
            "\n"
          ]
        }
      ]
    },
    {
      "cell_type": "code",
      "metadata": {
        "id": "JL13Z7cqUzqw",
        "outputId": "f01e1ee6-b9db-4529-97f3-1092e7d3478e",
        "colab": {
          "base_uri": "https://localhost:8080/"
        }
      },
      "source": [
        "#it will show all local python command to enter the values in dataFrame\n",
        "df.collect()"
      ],
      "execution_count": 24,
      "outputs": [
        {
          "output_type": "execute_result",
          "data": {
            "text/plain": [
              "[Row(apple=1, banana=2.0, c='hello', d=datetime.date(2021, 2, 4), e=datetime.datetime(2021, 2, 12, 1, 0)),\n",
              " Row(apple=2, banana=3.0, c='hello', d=datetime.date(2021, 2, 4), e=datetime.datetime(2021, 2, 12, 1, 0)),\n",
              " Row(apple=3, banana=3.0, c='hello', d=datetime.date(2021, 2, 4), e=datetime.datetime(2021, 2, 12, 1, 0))]"
            ]
          },
          "metadata": {},
          "execution_count": 24
        }
      ]
    },
    {
      "cell_type": "code",
      "metadata": {
        "id": "BquRvusAVeRJ",
        "outputId": "4f7b8845-c6ac-4072-f01a-8a35c069946f",
        "colab": {
          "base_uri": "https://localhost:8080/"
        }
      },
      "source": [
        "#it will show 1 local python command to enter the values in dataFrame\n",
        "df.take(1)"
      ],
      "execution_count": 26,
      "outputs": [
        {
          "output_type": "execute_result",
          "data": {
            "text/plain": [
              "[Row(apple=1, banana=2.0, c='hello', d=datetime.date(2021, 2, 4), e=datetime.datetime(2021, 2, 12, 1, 0))]"
            ]
          },
          "metadata": {},
          "execution_count": 26
        }
      ]
    },
    {
      "cell_type": "code",
      "metadata": {
        "id": "aBgdqV-RVm6W",
        "outputId": "45a35efa-d3bb-47fb-8533-605c9e5bd3dc",
        "colab": {
          "base_uri": "https://localhost:8080/",
          "height": 143
        }
      },
      "source": [
        "#selecting and accessing the data--\n",
        "df.to_pandas_on_spark()"
      ],
      "execution_count": 29,
      "outputs": [
        {
          "output_type": "execute_result",
          "data": {
            "text/html": [
              "<div>\n",
              "<style scoped>\n",
              "    .dataframe tbody tr th:only-of-type {\n",
              "        vertical-align: middle;\n",
              "    }\n",
              "\n",
              "    .dataframe tbody tr th {\n",
              "        vertical-align: top;\n",
              "    }\n",
              "\n",
              "    .dataframe thead th {\n",
              "        text-align: right;\n",
              "    }\n",
              "</style>\n",
              "<table border=\"1\" class=\"dataframe\">\n",
              "  <thead>\n",
              "    <tr style=\"text-align: right;\">\n",
              "      <th></th>\n",
              "      <th>apple</th>\n",
              "      <th>banana</th>\n",
              "      <th>c</th>\n",
              "      <th>d</th>\n",
              "      <th>e</th>\n",
              "    </tr>\n",
              "  </thead>\n",
              "  <tbody>\n",
              "    <tr>\n",
              "      <th>0</th>\n",
              "      <td>1</td>\n",
              "      <td>2.0</td>\n",
              "      <td>hello</td>\n",
              "      <td>2021-02-04</td>\n",
              "      <td>2021-02-12 01:00:00</td>\n",
              "    </tr>\n",
              "    <tr>\n",
              "      <th>1</th>\n",
              "      <td>2</td>\n",
              "      <td>3.0</td>\n",
              "      <td>hello</td>\n",
              "      <td>2021-02-04</td>\n",
              "      <td>2021-02-12 01:00:00</td>\n",
              "    </tr>\n",
              "    <tr>\n",
              "      <th>2</th>\n",
              "      <td>3</td>\n",
              "      <td>3.0</td>\n",
              "      <td>hello</td>\n",
              "      <td>2021-02-04</td>\n",
              "      <td>2021-02-12 01:00:00</td>\n",
              "    </tr>\n",
              "  </tbody>\n",
              "</table>\n",
              "</div>"
            ],
            "text/plain": [
              "   apple  banana      c           d                   e\n",
              "0      1     2.0  hello  2021-02-04 2021-02-12 01:00:00\n",
              "1      2     3.0  hello  2021-02-04 2021-02-12 01:00:00\n",
              "2      3     3.0  hello  2021-02-04 2021-02-12 01:00:00"
            ]
          },
          "metadata": {},
          "execution_count": 29
        }
      ]
    },
    {
      "cell_type": "code",
      "metadata": {
        "id": "pHe-2CibWKtQ",
        "outputId": "e7601c5b-f60c-40f7-e413-6d4da08eea1e",
        "colab": {
          "base_uri": "https://localhost:8080/"
        }
      },
      "source": [
        "from pyspark.sql import Column\n",
        "from pyspark.sql.functions import upper\n",
        "type(df.c) == type(upper(df.c)) == type(df.c.isNull())"
      ],
      "execution_count": 32,
      "outputs": [
        {
          "output_type": "execute_result",
          "data": {
            "text/plain": [
              "True"
            ]
          },
          "metadata": {},
          "execution_count": 32
        }
      ]
    },
    {
      "cell_type": "code",
      "metadata": {
        "id": "7uW_k9A-W7gR",
        "outputId": "d6e4f031-07f5-45c8-ffd7-84eb817efedd",
        "colab": {
          "base_uri": "https://localhost:8080/"
        }
      },
      "source": [
        "#before change to upper\n",
        "df.select(df.c).show()"
      ],
      "execution_count": 33,
      "outputs": [
        {
          "output_type": "stream",
          "name": "stdout",
          "text": [
            "+-----+\n",
            "|    c|\n",
            "+-----+\n",
            "|hello|\n",
            "|hello|\n",
            "|hello|\n",
            "+-----+\n",
            "\n"
          ]
        }
      ]
    },
    {
      "cell_type": "code",
      "metadata": {
        "id": "jC9C8UZoXGio",
        "outputId": "640a422a-90eb-46c9-bffa-1fffaaa06a71",
        "colab": {
          "base_uri": "https://localhost:8080/"
        }
      },
      "source": [
        "#after change to upper .it creates new column to show output.\n",
        "df.withColumn('upper_c',upper(df.c)).show()"
      ],
      "execution_count": 34,
      "outputs": [
        {
          "output_type": "stream",
          "name": "stdout",
          "text": [
            "+-----+------+-----+----------+-------------------+-------+\n",
            "|apple|banana|    c|         d|                  e|upper_c|\n",
            "+-----+------+-----+----------+-------------------+-------+\n",
            "|    1|   2.0|hello|2021-02-04|2021-02-12 01:00:00|  HELLO|\n",
            "|    2|   3.0|hello|2021-02-04|2021-02-12 01:00:00|  HELLO|\n",
            "|    3|   3.0|hello|2021-02-04|2021-02-12 01:00:00|  HELLO|\n",
            "+-----+------+-----+----------+-------------------+-------+\n",
            "\n"
          ]
        }
      ]
    },
    {
      "cell_type": "code",
      "metadata": {
        "id": "dHPhP7l_X20D",
        "outputId": "775392ad-d700-4859-8285-66e2fb7044da",
        "colab": {
          "base_uri": "https://localhost:8080/"
        }
      },
      "source": [
        "#filter\n",
        "df.filter(df.apple == 1).show()"
      ],
      "execution_count": 36,
      "outputs": [
        {
          "output_type": "stream",
          "name": "stdout",
          "text": [
            "+-----+------+-----+----------+-------------------+\n",
            "|apple|banana|    c|         d|                  e|\n",
            "+-----+------+-----+----------+-------------------+\n",
            "|    1|   2.0|hello|2021-02-04|2021-02-12 01:00:00|\n",
            "+-----+------+-----+----------+-------------------+\n",
            "\n"
          ]
        }
      ]
    },
    {
      "cell_type": "code",
      "metadata": {
        "id": "gaW60sdlY71b",
        "outputId": "12d3a66a-9923-4024-9370-5fc41bfd8817",
        "colab": {
          "base_uri": "https://localhost:8080/"
        }
      },
      "source": [
        "import pandas\n",
        "from pyspark.sql.functions import pandas_udf\n",
        "\n",
        "@pandas_udf('long')\n",
        "def pandas_plus_one(series:pd.Series) -> pd.Series:\n",
        "  return series + 1\n",
        "\n",
        "df.select(pandas_plus_one(df.apple)).show() "
      ],
      "execution_count": 38,
      "outputs": [
        {
          "output_type": "stream",
          "name": "stdout",
          "text": [
            "+----------------------+\n",
            "|pandas_plus_one(apple)|\n",
            "+----------------------+\n",
            "|                     2|\n",
            "|                     3|\n",
            "|                     4|\n",
            "+----------------------+\n",
            "\n"
          ]
        }
      ]
    }
  ]
}